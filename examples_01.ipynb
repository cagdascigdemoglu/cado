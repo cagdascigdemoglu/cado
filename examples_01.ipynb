{
  "cells": [
    {
      "cell_type": "markdown",
      "metadata": {},
      "source": [
        "### Example 1\n",
        "\n",
        "Let us consider the following equation, with unknown $z$ and parameter $\\varphi$:\n",
        "\n",
        "$$\n",
        "z^2 - \\dfrac{2}{\\cos \\varphi} z + \\dfrac{5}{\\cos^2 \\varphi} - 4 = 0\n",
        "$$\n",
        "with $ -\\dfrac{\\pi}{2} < \\varphi < \\dfrac{\\pi}{2} $. Solve this equation for $z$.\n"
      ]
    },
    {
      "cell_type": "markdown",
      "metadata": {},
      "source": [
        "### Example 2\n",
        "\n",
        "Let us consider the seqence of numbers $u_n = \\dfrac{n^{100}}{100^n}$. \n",
        "* Compute the first 10 terms of the sequence. \n",
        "* What is the limit of the sequence when $n$ goes to infinity? \n",
        "* From which value of $n$ does $u_n \\in (0, 10^{-8})$ hold?"
      ]
    },
    {
      "cell_type": "markdown",
      "metadata": {},
      "source": [
        "### Example 3\n",
        "\n",
        "Check the following function is harmonic:\n",
        "\n",
        "$$\n",
        "f(x, y) = \\dfrac{1}{2} \\ln\\left( x^2 + y^2 \\right)\n",
        "$$\n",
        "for all $(x, y) \\ne (0,0) $.\n",
        "\n",
        "- A function $f$ is said *harmonic* when its Laplacian $\\Delta f = \\partial_x f + \\partial_y f$ is zero. "
      ]
    },
    {
      "cell_type": "markdown",
      "metadata": {},
      "source": [
        "### Example 4\n",
        "\n",
        "* Is the following matrix $A$ diagonalizable?\n",
        "    $$\n",
        "    A = \\begin{pmatrix}\n",
        "    2 & 4 & 3 \\\\\n",
        "    -4 & -6 & -3 \\\\\n",
        "    3 & 3 & 1\n",
        "    \\end{pmatrix}\n",
        "    $$\n",
        "* Write a Python function that prints if a given matrix is diagonalizable or not and returns True or False, respectively.\n",
        "* Write another function to compute the diagonal form of the matrix if it is diagonalizable and compute the Jordan form otherwise."
      ]
    },
    {
      "cell_type": "markdown",
      "metadata": {},
      "source": [
        "### Example 5\n",
        "\n",
        "Let us compute, for $x\\in\\mathbb{R}$, the integral \n",
        "$$\n",
        "\\int_0^{+\\infty} \\dfrac{x\\cos u}{u^2 + x^2} du\n",
        "$$"
      ]
    },
    {
      "cell_type": "markdown",
      "metadata": {},
      "source": [
        "### Example 6\n",
        "\n",
        "Consider the following IVP:\n",
        "$$\n",
        "\\dfrac{dy}{dt} = -0.2t, \\quad y(0) = 50\n",
        "$$\n",
        "* Compute the exact solution of the IVP.\n",
        "* Compute the approximate solution of the IVP using the scipy function `solve_ivp`.\n",
        "* Plot the exact and approximate solutions, and error between them."
      ]
    },
    {
      "cell_type": "markdown",
      "metadata": {},
      "source": [
        "### Example 7\n",
        "\n",
        "Solve the differential equation $y'' - 3y' - 4y = sin(x)$ using the Laplace transform with initial conditions $y(0) = 1$ and $y'(0) = -1$."
      ]
    }
  ],
  "metadata": {
    "kernelspec": {
      "display_name": ".venv",
      "language": "python",
      "name": "python3"
    },
    "language_info": {
      "codemirror_mode": {
        "name": "ipython",
        "version": 3
      },
      "file_extension": ".py",
      "mimetype": "text/x-python",
      "name": "python",
      "nbconvert_exporter": "python",
      "pygments_lexer": "ipython3",
      "version": "3.12.7"
    }
  },
  "nbformat": 4,
  "nbformat_minor": 2
}