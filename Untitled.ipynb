{
  "metadata": {
    "kernelspec": {
      "name": "python",
      "display_name": "Python (Pyodide)",
      "language": "python"
    },
    "language_info": {
      "codemirror_mode": {
        "name": "python",
        "version": 3
      },
      "file_extension": ".py",
      "mimetype": "text/x-python",
      "name": "python",
      "nbconvert_exporter": "python",
      "pygments_lexer": "ipython3",
      "version": "3.8"
    }
  },
  "nbformat_minor": 4,
  "nbformat": 4,
  "cells": [
    {
      "cell_type": "code",
      "source": "import numpy as np\n# 1D array\na1D = np.array((1, 2, 3, 4))\n# 2D array\na2D = np.array([(1, 2), [3, 4]])\n# 3D array\na3D = np.array([[[1, 2], [3, 4]], [[5, 6], [7, 8]]])\n\n\n",
      "metadata": {
        "trusted": true
      },
      "outputs": [],
      "execution_count": 10
    },
    {
      "cell_type": "code",
      "source": "a3D.shape",
      "metadata": {
        "trusted": true
      },
      "outputs": [
        {
          "execution_count": 8,
          "output_type": "execute_result",
          "data": {
            "text/plain": "(2, 2, 2)"
          },
          "metadata": {}
        }
      ],
      "execution_count": 8
    },
    {
      "cell_type": "code",
      "source": "a1D[np.newaxis, np.newaxis, np.newaxis]\n# 1 boyutlu matrisi 4 boyutlu yaptı",
      "metadata": {
        "trusted": true
      },
      "outputs": [
        {
          "execution_count": 11,
          "output_type": "execute_result",
          "data": {
            "text/plain": "array([[[[1, 2, 3, 4]]]])"
          },
          "metadata": {}
        }
      ],
      "execution_count": 11
    },
    {
      "cell_type": "code",
      "source": "a1D.reshape(4,1)\n# 4 satır 1 sütunlu 2 boyutlu yeni bir matris yaptı",
      "metadata": {
        "trusted": true
      },
      "outputs": [
        {
          "execution_count": 16,
          "output_type": "execute_result",
          "data": {
            "text/plain": "array([[1],\n       [2],\n       [3],\n       [4]])"
          },
          "metadata": {}
        }
      ],
      "execution_count": 16
    },
    {
      "cell_type": "code",
      "source": "np.arange(10)",
      "metadata": {
        "trusted": true
      },
      "outputs": [
        {
          "execution_count": 17,
          "output_type": "execute_result",
          "data": {
            "text/plain": "array([0, 1, 2, 3, 4, 5, 6, 7, 8, 9])"
          },
          "metadata": {}
        }
      ],
      "execution_count": 17
    },
    {
      "cell_type": "code",
      "source": "np.arange(2, 10, dtype=float)",
      "metadata": {
        "trusted": true
      },
      "outputs": [
        {
          "execution_count": 18,
          "output_type": "execute_result",
          "data": {
            "text/plain": "array([2., 3., 4., 5., 6., 7., 8., 9.])"
          },
          "metadata": {}
        }
      ],
      "execution_count": 18
    },
    {
      "cell_type": "code",
      "source": "np.arange(2, 3, 0.1)\n# (başlangıç noktası, bitiş noktası, artış miktarı)",
      "metadata": {
        "trusted": true
      },
      "outputs": [
        {
          "execution_count": 19,
          "output_type": "execute_result",
          "data": {
            "text/plain": "array([2. , 2.1, 2.2, 2.3, 2.4, 2.5, 2.6, 2.7, 2.8, 2.9])"
          },
          "metadata": {}
        }
      ],
      "execution_count": 19
    },
    {
      "cell_type": "code",
      "source": "np.linspace(1.0, 4.0, 6)\n# başlangıç ve bitiş değerleri dahil olmak üzere eşit parçalara ayırmak için kullanılır",
      "metadata": {
        "trusted": true
      },
      "outputs": [
        {
          "execution_count": 20,
          "output_type": "execute_result",
          "data": {
            "text/plain": "array([1. , 1.6, 2.2, 2.8, 3.4, 4. ])"
          },
          "metadata": {}
        }
      ],
      "execution_count": 20
    },
    {
      "cell_type": "code",
      "source": "# identity matrix\nnp.eye(3)\n# np.eye(3, 4, k=1)\n# (satır sayısı, sütun sayısı, k kadar kaydırılır)",
      "metadata": {
        "trusted": true
      },
      "outputs": [
        {
          "execution_count": 30,
          "output_type": "execute_result",
          "data": {
            "text/plain": "array([[1., 0., 0.],\n       [0., 1., 0.],\n       [0., 0., 1.]])"
          },
          "metadata": {}
        }
      ],
      "execution_count": 30
    },
    {
      "cell_type": "code",
      "source": "# diagonal matrix with diagonal values\n# np.diag([1, 2, 3])\nnp.diag([1, 2, 3], k=1)",
      "metadata": {
        "trusted": true
      },
      "outputs": [
        {
          "execution_count": 33,
          "output_type": "execute_result",
          "data": {
            "text/plain": "array([[0, 1, 0, 0],\n       [0, 0, 2, 0],\n       [0, 0, 0, 3],\n       [0, 0, 0, 0]])"
          },
          "metadata": {}
        }
      ],
      "execution_count": 33
    },
    {
      "cell_type": "code",
      "source": "# vandermonde matrix\nnp.vander([1, 2, 3, 4], 3)",
      "metadata": {
        "trusted": true
      },
      "outputs": [
        {
          "execution_count": 43,
          "output_type": "execute_result",
          "data": {
            "text/plain": "array([[ 1,  1,  1],\n       [ 4,  2,  1],\n       [ 9,  3,  1],\n       [16,  4,  1]])"
          },
          "metadata": {}
        }
      ],
      "execution_count": 43
    },
    {
      "cell_type": "code",
      "source": "# zeros matrix\nnp.zeros([2, 3])\n# np.zeros(3)",
      "metadata": {
        "trusted": true
      },
      "outputs": [
        {
          "execution_count": 49,
          "output_type": "execute_result",
          "data": {
            "text/plain": "array([[0., 0., 0.],\n       [0., 0., 0.]])"
          },
          "metadata": {}
        }
      ],
      "execution_count": 49
    },
    {
      "cell_type": "code",
      "source": "# ones matrix\nnp.ones((2, 3), dtype = int)",
      "metadata": {
        "trusted": true
      },
      "outputs": [
        {
          "execution_count": 50,
          "output_type": "execute_result",
          "data": {
            "text/plain": "array([[1, 1, 1],\n       [1, 1, 1]])"
          },
          "metadata": {}
        }
      ],
      "execution_count": 50
    },
    {
      "cell_type": "code",
      "source": "# random numbers between 0 and 1\nnp.random.rand(2, 3)",
      "metadata": {
        "trusted": true
      },
      "outputs": [
        {
          "execution_count": 55,
          "output_type": "execute_result",
          "data": {
            "text/plain": "array([[0.70205997, 0.61826517, 0.68511992],\n       [0.14141794, 0.97257922, 0.16368816]])"
          },
          "metadata": {}
        }
      ],
      "execution_count": 55
    },
    {
      "cell_type": "code",
      "source": "# random integers between 0 and 10 (10 dahil değil)\nnp.random.randint(0, 10, (2, 3))",
      "metadata": {
        "trusted": true
      },
      "outputs": [
        {
          "execution_count": 62,
          "output_type": "execute_result",
          "data": {
            "text/plain": "array([[9, 9, 2],\n       [2, 1, 0]])"
          },
          "metadata": {}
        }
      ],
      "execution_count": 62
    },
    {
      "cell_type": "code",
      "source": "# random numbers from a normal distribution\nnp.random.randn(2, 3)",
      "metadata": {
        "trusted": true
      },
      "outputs": [
        {
          "execution_count": 70,
          "output_type": "execute_result",
          "data": {
            "text/plain": "array([[-0.53751551, -0.33913662, -1.15415099],\n       [-1.59013115,  0.24783557,  1.94197776]])"
          },
          "metadata": {}
        }
      ],
      "execution_count": 70
    },
    {
      "cell_type": "code",
      "source": "# random numbers from a uniform distribution\nnp.random.seed(0) # (sayıları sabitliyor)\nnp.random.uniform(1, 10, (2, 3))",
      "metadata": {
        "trusted": true
      },
      "outputs": [
        {
          "execution_count": 99,
          "output_type": "execute_result",
          "data": {
            "text/plain": "array([[5.93932154, 7.4367043 , 6.42487038],\n       [5.90394865, 4.81289319, 6.81304702]])"
          },
          "metadata": {}
        }
      ],
      "execution_count": 99
    },
    {
      "cell_type": "code",
      "source": "a = np.array([1, 2, 3, 4, 5, 6])\nb = a[:2]  # create a view of the first two elements\nb += 1\n# b.base\nb, a\n# b a'nın görünümü olduğu için a'yı da değiştiriyor yani kopyalamıyor",
      "metadata": {
        "trusted": true
      },
      "outputs": [
        {
          "execution_count": 110,
          "output_type": "execute_result",
          "data": {
            "text/plain": "(array([2, 3]), array([2, 3, 3, 4, 5, 6]))"
          },
          "metadata": {}
        }
      ],
      "execution_count": 110
    },
    {
      "cell_type": "code",
      "source": "# copy gives a new array\na = np.array([1, 2, 3, 4, 5, 6])\nb = a[:2].copy()\nb += 1\nb.base  # is None since it is a new array\nb, a",
      "metadata": {
        "trusted": true
      },
      "outputs": [
        {
          "execution_count": 113,
          "output_type": "execute_result",
          "data": {
            "text/plain": "(array([2, 3]), array([1, 2, 3, 4, 5, 6]))"
          },
          "metadata": {}
        }
      ],
      "execution_count": 113
    },
    {
      "cell_type": "code",
      "source": "",
      "metadata": {
        "trusted": true
      },
      "outputs": [],
      "execution_count": null
    }
  ]
}